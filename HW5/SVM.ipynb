{
  "cells": [
    {
      "cell_type": "code",
      "execution_count": 1,
      "metadata": {
        "id": "q00JF9knfdhg",
        "outputId": "3e818735-b8ec-49f9-f6ee-97667d853124",
        "colab": {
          "base_uri": "https://localhost:8080/"
        }
      },
      "outputs": [
        {
          "output_type": "stream",
          "name": "stdout",
          "text": [
            "Downloading...\n",
            "From: https://drive.google.com/uc?id=1sCTQXp9kTcm8_jckqC-v_gWxIsFCcUbS\n",
            "To: /content/X_train\n",
            "100% 7.14M/7.14M [00:00<00:00, 106MB/s]\n",
            "Downloading...\n",
            "From: https://drive.google.com/uc?id=1vK24A09o5Nev5qj1qNhndFe6beTWSDRU\n",
            "To: /content/Y_train\n",
            "100% 65.1k/65.1k [00:00<00:00, 48.9MB/s]\n",
            "Downloading...\n",
            "From: https://drive.google.com/uc?id=1THvOuf_EOn6c_6TLy0Bqs23BP2NraBR2\n",
            "To: /content/X_test\n",
            "100% 3.57M/3.57M [00:00<00:00, 61.5MB/s]\n"
          ]
        }
      ],
      "source": [
        "!gdown 1sCTQXp9kTcm8_jckqC-v_gWxIsFCcUbS\n",
        "!gdown 1vK24A09o5Nev5qj1qNhndFe6beTWSDRU\n",
        "!gdown 1THvOuf_EOn6c_6TLy0Bqs23BP2NraBR2"
      ]
    },
    {
      "cell_type": "code",
      "execution_count": 2,
      "metadata": {
        "id": "-i7a0zITdd0h"
      },
      "outputs": [],
      "source": [
        "import numpy as np\n",
        "import pandas as pd\n",
        "import csv\n",
        "from sklearn.svm import SVC"
      ]
    },
    {
      "cell_type": "code",
      "execution_count": 3,
      "metadata": {
        "id": "14_RdKtHfu1j",
        "outputId": "ce55c655-4d96-48ca-aa03-92d18a820756",
        "colab": {
          "base_uri": "https://localhost:8080/"
        }
      },
      "outputs": [
        {
          "output_type": "stream",
          "name": "stdout",
          "text": [
            "age                -0.922379\n",
            "fnlwgt              1.932257\n",
            "sex                 1.000000\n",
            "capital_gain       -0.145918\n",
            "capital_loss       -0.216656\n",
            "                      ...   \n",
            " Trinadad&Tobago    0.000000\n",
            " United-States      1.000000\n",
            " Vietnam            0.000000\n",
            " Yugoslavia         0.000000\n",
            "?_native_country    0.000000\n",
            "Name: 3890, Length: 106, dtype: float64\n",
            "age                 0.323916\n",
            "fnlwgt             -0.756669\n",
            "sex                 0.000000\n",
            "capital_gain       -0.145918\n",
            "capital_loss       -0.216656\n",
            "                      ...   \n",
            " Trinadad&Tobago    0.000000\n",
            " United-States      1.000000\n",
            " Vietnam            0.000000\n",
            " Yugoslavia         0.000000\n",
            "?_native_country    0.000000\n",
            "Name: 21274, Length: 106, dtype: float64\n",
            "age                -0.995690\n",
            "fnlwgt              0.173744\n",
            "sex                 1.000000\n",
            "capital_gain       -0.145918\n",
            "capital_loss       -0.216656\n",
            "                      ...   \n",
            " Trinadad&Tobago    0.000000\n",
            " United-States      1.000000\n",
            " Vietnam            0.000000\n",
            " Yugoslavia         0.000000\n",
            "?_native_country    0.000000\n",
            "Name: 15093, Length: 106, dtype: float64\n",
            "(32561, 106)\n"
          ]
        }
      ],
      "source": [
        "def normalize(X, mu_x=None, std_x=None):\n",
        "  for label in (['age', 'fnlwgt', 'hours_per_week', 'capital_gain', 'capital_loss']):\n",
        "    X[label] = pd.DataFrame((X[label]-X[label].mean())/X[label].std())\n",
        "  return X\n",
        "\n",
        "def load_train():\n",
        "  X = pd.read_csv(\"X_train\")  # 'age', 'fnlwgt', 'hours_per_week', 'capital_gain', 'capital_loss' are coninuous, others are discrete\n",
        "  Y = pd.read_csv(\"Y_train\", header = None).values.reshape(-1)\n",
        "  X = normalize(X)\n",
        "\n",
        "  return X, Y\n",
        "\n",
        "def load_test():\n",
        "  X = pd.read_csv(\"X_test\")\n",
        "  X = normalize(X)\n",
        "  return X\n",
        "\n",
        "train_X, train_Y= load_train()\n",
        "'''\n",
        "import random\n",
        "train, valid = [], []\n",
        "for i in range (train_X.shape[0]):\n",
        "  if (random.randint(0,5) == 4):\n",
        "    valid.append(i)\n",
        "  else:\n",
        "    train.append(i)\n",
        "print(train_X.shape)\n",
        "valid_X = train_X.iloc[valid, :]\n",
        "train_X = train_X.iloc[train, :]\n",
        "valid_Y = train_Y[valid]\n",
        "train_Y = train_Y[train]\n",
        "'''\n",
        "test_X = load_test()\n",
        "print(train_X.iloc[3890])\n",
        "print(train_X.iloc[21274])\n",
        "print(train_X.iloc[15093])\n",
        "\n",
        "print(train_X.shape)\n",
        "#print(valid_X.shape)\n",
        "\n"
      ]
    },
    {
      "cell_type": "markdown",
      "source": [
        "RUN"
      ],
      "metadata": {
        "id": "_lWy0FigkMXq"
      }
    },
    {
      "cell_type": "code",
      "execution_count": 4,
      "metadata": {
        "colab": {
          "base_uri": "https://localhost:8080/"
        },
        "id": "RNTx_SOIk53U",
        "outputId": "5f067df3-faab-4166-be27-df2d98b52faa"
      },
      "outputs": [
        {
          "output_type": "stream",
          "name": "stdout",
          "text": [
            "[LibSVM]"
          ]
        },
        {
          "output_type": "execute_result",
          "data": {
            "text/plain": [
              "SVC(C=0.5, kernel='poly', random_state=2022, verbose=2)"
            ]
          },
          "metadata": {},
          "execution_count": 4
        }
      ],
      "source": [
        "clf = SVC(kernel='poly', random_state=2022, verbose=2, C=0.5)\n",
        "clf.fit(train_X, train_Y)"
      ]
    },
    {
      "cell_type": "code",
      "source": [
        "results = clf.predict(train_X)\n",
        "length = len(train_Y)\n",
        "correct = 0\n",
        "for i in range (len(train_Y)):\n",
        "  if (train_Y[i] == results[i]):\n",
        "    correct += 1\n",
        "print(correct / length)"
      ],
      "metadata": {
        "id": "WaMfKz5emOAM",
        "colab": {
          "base_uri": "https://localhost:8080/"
        },
        "outputId": "b352d3a9-8a52-4024-afa5-02ba93273781"
      },
      "execution_count": 5,
      "outputs": [
        {
          "output_type": "stream",
          "name": "stdout",
          "text": [
            "0.8647768803169436\n"
          ]
        }
      ]
    },
    {
      "cell_type": "code",
      "execution_count": 6,
      "metadata": {
        "id": "LS6LHG3bntKv"
      },
      "outputs": [],
      "source": [
        "\n",
        "results = clf.predict(test_X)\n",
        "with open('predict.csv', 'w', newline='') as f:\n",
        "    writer = csv.writer(f)\n",
        "    writer.writerow(['id','label'])\n",
        "    for i, x in enumerate(results):\n",
        "      writer.writerow([i + 1, int(x)])\n"
      ]
    }
  ],
  "metadata": {
    "colab": {
      "provenance": []
    },
    "kernelspec": {
      "display_name": "Python 3",
      "name": "python3"
    },
    "language_info": {
      "name": "python"
    },
    "accelerator": "GPU",
    "gpuClass": "standard"
  },
  "nbformat": 4,
  "nbformat_minor": 0
}